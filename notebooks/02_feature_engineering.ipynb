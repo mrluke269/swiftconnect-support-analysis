{
 "cells": [
  {
   "cell_type": "code",
   "execution_count": 1,
   "id": "b9abcf2f",
   "metadata": {},
   "outputs": [
    {
     "name": "stdout",
     "output_type": "stream",
     "text": [
      "Cleaned data loaded successfully for Feature Engineering!\n",
      "<class 'pandas.core.frame.DataFrame'>\n",
      "RangeIndex: 2330 entries, 0 to 2329\n",
      "Data columns (total 22 columns):\n",
      " #   Column                          Non-Null Count  Dtype         \n",
      "---  ------                          --------------  -----         \n",
      " 0   Status                          2330 non-null   object        \n",
      " 1   Ticket ID                       2330 non-null   int64         \n",
      " 2   Priority                        2330 non-null   object        \n",
      " 3   Source                          2330 non-null   object        \n",
      " 4   Topic                           2330 non-null   object        \n",
      " 5   Agent Group                     2330 non-null   object        \n",
      " 6   Agent Name                      2330 non-null   object        \n",
      " 7   Created time                    2330 non-null   datetime64[ns]\n",
      " 8   Expected SLA to resolve         2330 non-null   datetime64[ns]\n",
      " 9   Expected SLA to first response  2330 non-null   datetime64[ns]\n",
      " 10  First response time             2312 non-null   datetime64[ns]\n",
      " 11  SLA For first response          2330 non-null   object        \n",
      " 12  Resolution time                 1912 non-null   datetime64[ns]\n",
      " 13  SLA For Resolution              2330 non-null   object        \n",
      " 14  Close time                      1912 non-null   datetime64[ns]\n",
      " 15  Agent interactions              2330 non-null   float64       \n",
      " 16  Survey results                  1173 non-null   float64       \n",
      " 17  Product group                   2330 non-null   object        \n",
      " 18  Support Level                   2330 non-null   object        \n",
      " 19  Country                         2330 non-null   object        \n",
      " 20  Latitude                        2330 non-null   float64       \n",
      " 21  Longitude                       2330 non-null   float64       \n",
      "dtypes: datetime64[ns](6), float64(4), int64(1), object(11)\n",
      "memory usage: 400.6+ KB\n",
      "None\n"
     ]
    }
   ],
   "source": [
    "import pandas as pd\n",
    "\n",
    "# Load the cleaned dataset\n",
    "df = pd.read_csv('technical_support_data_cleaned.csv')\n",
    "\n",
    "# Re-convert time columns to datetime objects\n",
    "\n",
    "time_cols = [\n",
    "    'Created time', 'Expected SLA to resolve', 'Expected SLA to first response',\n",
    "    'First response time', 'Resolution time', 'Close time'\n",
    "]\n",
    "for col in time_cols:\n",
    "    df[col] = pd.to_datetime(df[col]) \n",
    "\n",
    "print(\"Cleaned data loaded successfully for Feature Engineering!\")\n",
    "print(df.info()) # Check dtypes to confirm datetime conversion"
   ]
  },
  {
   "cell_type": "markdown",
   "id": "d65e106a",
   "metadata": {},
   "source": [
    "The main objectives for the \"Optimizing Customer Support Operations at SwiftConnect Telecom\" project are to:\n",
    "- Analyze support efficiency (response and resolution times).\n",
    "- Understand patterns in ticket volume (e.g., busiest days/hours).\n",
    "- Evaluate SLA compliance.\n",
    "- Correlate operational metrics with customer satisfaction."
   ]
  },
  {
   "cell_type": "markdown",
   "id": "6819dd51",
   "metadata": {},
   "source": [
    "- The raw timestamp columns (Created time, First response time, etc.) are dates and times, but they don't immediately tell \"how long did it take?\" or \"what day of the week was this ticket created?\". \n",
    "- By performing feature engineering, we will derive these crucial metrics and temporal insights"
   ]
  },
  {
   "cell_type": "markdown",
   "id": "1c4e8471",
   "metadata": {},
   "source": [
    "Key steps: \n",
    "- Create several new features, including:\n",
    "    - Duration Metrics:\n",
    "        > Actual First Response Duration: Time taken from ticket creation to the first response.\n",
    "\n",
    "        > Actual Resolution Duration: Time taken from ticket creation to issue resolution.\n",
    "\n",
    "        > Actual Ticket Lifecycle Duration: Total time from ticket creation to its final closure.\n",
    "    - SLA Compliance:\n",
    "        > Convert the 'Within SLA' / 'SLA Violated' flags into a numerical format (e.g., 0/1) for easier calculation and aggregation.\n",
    "    - Time-Based Features: Extract components from datetime columns:\n",
    "        > Day of the week\n",
    "        > Hour of the day\n",
    "        > Month/Quarter\n"
   ]
  },
  {
   "cell_type": "code",
   "execution_count": null,
   "id": "199a2639",
   "metadata": {},
   "outputs": [],
   "source": [
    "# Create \"Actual First Respone Duration\" and \"Actual First Respone Duration Minutes\" features\n",
    "\n",
    "# Calculate the duration (this will be a Timedelta object)\n",
    "df['Actual_First_Response_Duration'] = df['First response time'] - df['Created time']\n",
    "\n",
    "# Convert the Timedelta to minutes\n",
    "df['Actual_First_Response_Duration_Minutes'] = df['Actual_First_Response_Duration'].dt.total_seconds() / 60\n"
   ]
  },
  {
   "cell_type": "code",
   "execution_count": 3,
   "id": "930c25fb",
   "metadata": {},
   "outputs": [],
   "source": [
    "# Create \"Actual Resolution Duration\" and \"Actual Resolution Duration Minutes\" features\n",
    "\n",
    "# Calculate the duration\n",
    "df['Actual_Resolution_Duration'] = df['Resolution time'] - df['Created time']\n",
    "\n",
    "# Convert the Timedelta to minutes\n",
    "df['Actual_Resolution_Duration_Minutes'] = df['Actual_Resolution_Duration'].dt.total_seconds() / 60"
   ]
  },
  {
   "cell_type": "code",
   "execution_count": null,
   "id": "1e7dae0c",
   "metadata": {},
   "outputs": [],
   "source": [
    "# Create \"Actual Ticket Lifecycle Duration.\" and \"Actual Ticket Lifecycle Duration Minutes\" features\n",
    "\n",
    "# Calculate the duration\n",
    "df['Actual_Ticket_Lifecycle_Duration'] = df['Close time'] - df['Created time']\n",
    "\n",
    "# Convert the Timedelta to minutes\n",
    "df['Actual_Ticket_Lifecycle_Duration_Minutes'] = df['Actual_Ticket_Lifecycle_Duration'].dt.total_seconds() / 60"
   ]
  },
  {
   "cell_type": "markdown",
   "id": "0af5b980",
   "metadata": {},
   "source": [
    "Succefully created three crucial duration metrics engineered into dataset:\n",
    "\n",
    "- Actual_First_Response_Duration_Minutes\n",
    "- Actual_Resolution_Duration_Minutes\n",
    "- Actual_Ticket_Lifecycle_Duration_Minutes\n",
    "\n",
    "These features are central to analysis of support efficiency and SLA compliance!"
   ]
  },
  {
   "cell_type": "code",
   "execution_count": 5,
   "id": "2042762d",
   "metadata": {},
   "outputs": [],
   "source": [
    "# Create Time-based features\n",
    "\n",
    "# Extract Day_of_Week and Hour_of_Day from Created time\n",
    "# Extract day of the week (0=Monday, 6=Sunday)\n",
    "df['Created_Day_of_Week_Num'] = df['Created time'].dt.dayofweek\n",
    "# Extract day of the week name\n",
    "df['Created_Day_of_Week_Name'] = df['Created time'].dt.day_name()\n",
    "# Extract hour of the day\n",
    "df['Created_Hour_of_Day'] = df['Created time'].dt.hour\n",
    "\n",
    "\n",
    "# Extract Month and Year from Created time\n",
    "# Extract numerical month\n",
    "df['Created_Month_Num'] = df['Created time'].dt.month\n",
    "# Extract month name\n",
    "df['Created_Month_Name'] = df['Created time'].dt.month_name()\n",
    "# Extract year\n",
    "df['Created_Year'] = df['Created time'].dt.year\n",
    "\n",
    "# Extract temporal patterns related to when tickets are responded to and resolved\n",
    "# Extract Day_of_Week_Name and Hour_of_Day for First response time and Resolution time\n",
    "# For First Response Time\n",
    "df['FirstResponse_Day_of_Week_Name'] = df['First response time'].dt.day_name()\n",
    "df['FirstResponse_Hour_of_Day'] = df['First response time'].dt.hour\n",
    "\n",
    "# For Resolution Time\n",
    "df['Resolution_Day_of_Week_Name'] = df['Resolution time'].dt.day_name()\n",
    "df['Resolution_Hour_of_Day'] = df['Resolution time'].dt.hour\n",
    "\n",
    "# Extract temporal patterns related to when tickets are responded to and resolved\n",
    "# Extract Day_of_Week_Name and Hour_of_Day for First response time and Resolution time\n",
    "# For First Response Time\n",
    "df['FirstResponse_Day_of_Week_Name'] = df['First response time'].dt.day_name()\n",
    "df['FirstResponse_Hour_of_Day'] = df['First response time'].dt.hour\n",
    "# For Resolution Time\n",
    "df['Resolution_Day_of_Week_Name'] = df['Resolution time'].dt.day_name()\n",
    "df['Resolution_Hour_of_Day'] = df['Resolution time'].dt.hour\n",
    "\n"
   ]
  },
  {
   "cell_type": "markdown",
   "id": "641fc9bc",
   "metadata": {},
   "source": [
    "- Succefully created time-based features into dataset!"
   ]
  },
  {
   "cell_type": "code",
   "execution_count": 10,
   "id": "f4c8606d",
   "metadata": {},
   "outputs": [],
   "source": [
    "# Converting categorical compliance flags into a numerical format\n",
    "# The columns SLA For first response and SLA For Resolution are currently categorical (within sla, sla violated). \n",
    "# Converting them into numerical (binary) flags (0 for violated, 1 for within SLA) makes them ready to use in calculations, aggregations, and modeling.\n",
    "\n",
    "import numpy as np\n",
    "\n",
    "# For First Response SLA\n",
    "df['First_Response_SLA_Met'] = np.where(df['SLA For first response'] == 'within sla', 1, 0)\n",
    "\n",
    "# For Resolution SLA\n",
    "df['Resolution_SLA_Met'] = np.where(df['SLA For Resolution'] == 'within sla', 1, 0)\n"
   ]
  },
  {
   "cell_type": "markdown",
   "id": "0e3823c2",
   "metadata": {},
   "source": [
    "Successfully completed the Feature Engineering phase! \n",
    "Transformed cleaned data into a rich set of analytical features, including:\n",
    "- Duration Metrics:\n",
    "    > Actual_First_Response_Duration_Minutes\n",
    "\n",
    "    > Actual_Resolution_Duration_Minutes\n",
    "\n",
    "    > Actual_Ticket_Lifecycle_Duration_Minutes\n",
    "\n",
    "- Time-Based Features (from Created time, First response time, Resolution time):\n",
    "    > Created_Day_of_Week_Num, Created_Day_of_Week_Name, Created_Hour_of_Day, Created_Month_Num, Created_Month_Name, Created_Year\n",
    "\n",
    "    > FirstResponse_Day_of_Week_Name, FirstResponse_Hour_of_Day\n",
    "\n",
    "    > Resolution_Day_of_Week_Name, Resolution_Hour_of_Day\n",
    "\n",
    "- Numerical SLA Compliance Flags\n",
    "    > First_Response_SLA_Met\n",
    "    > Resolution_SLA_Met\n"
   ]
  },
  {
   "cell_type": "code",
   "execution_count": 11,
   "id": "a18c781b",
   "metadata": {},
   "outputs": [
    {
     "name": "stdout",
     "output_type": "stream",
     "text": [
      "Engineered dataset saved successfully to: technical_support_data_engineered.csv\n"
     ]
    }
   ],
   "source": [
    "# Save engineered dataset\n",
    "\n",
    "output_file_path_engineered = 'technical_support_data_engineered.csv'\n",
    "df.to_csv(output_file_path_engineered, index=False)\n",
    "print(f\"Engineered dataset saved successfully to: {output_file_path_engineered}\")"
   ]
  }
 ],
 "metadata": {
  "kernelspec": {
   "display_name": "Python 3",
   "language": "python",
   "name": "python3"
  },
  "language_info": {
   "codemirror_mode": {
    "name": "ipython",
    "version": 3
   },
   "file_extension": ".py",
   "mimetype": "text/x-python",
   "name": "python",
   "nbconvert_exporter": "python",
   "pygments_lexer": "ipython3",
   "version": "3.11.9"
  }
 },
 "nbformat": 4,
 "nbformat_minor": 5
}
